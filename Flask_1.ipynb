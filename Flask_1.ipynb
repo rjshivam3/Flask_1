{
 "cells": [
  {
   "cell_type": "markdown",
   "id": "6361ff79-97d3-475b-90dd-0a2cf8dcbe5f",
   "metadata": {},
   "source": [
    "## Q1. What is Flask Framework? What are the advantages of Flask Framework?\n",
    "\n",
    "<p>\n",
    "Flask is a lightweight Python web framework known for its simplicity and flexibility. Its advantages include being easy to get started with, \n",
    "flexible in application structure, extensible through third-party extensions, well-documented, supportive of testing, and backed by a large\n",
    "community.\n",
    "<p>"
   ]
  },
  {
   "cell_type": "markdown",
   "id": "097dd839-d359-4146-8cf0-f00600110f9a",
   "metadata": {},
   "source": [
    "## Q2. Create a simple Flask application to display ‘Hello World!!’. Attach the screenshot of the output in Jupyter Notebook.\n",
    "* Why I'm not able to see image I've given right path\n",
    "\n",
    "![DSQ2_OP](work/Flask-1/DSQ2_OP.png)"
   ]
  },
  {
   "cell_type": "markdown",
   "id": "761e9180-6539-4bc1-8569-f21b45301b6c",
   "metadata": {},
   "source": [
    "## Q3. What is App routing in Flask? Why do we use app routes?\n",
    "\n",
    "<p>In Flask, app routing refers to the process of mapping URLs to view functions within a web application. It allows developers to define how the application responds to different HTTP requests for specific URLs.\n",
    "\n",
    "App routes are defined using the @app.route() decorator in Flask. This decorator binds a URL pattern to a specific view function, which generates the HTTP response when that URL is requested.<p>"
   ]
  },
  {
   "cell_type": "markdown",
   "id": "b1b8ab0e-0c97-462e-a205-ba2b9b1b2707",
   "metadata": {},
   "source": [
    "## Q4. Create a “/welcome” route to display the welcome message “Welcome to ABC Corporation” and a “/” route to show the following details:\n",
    "\n",
    "![ot](work/Flask-1/Screenshot (73).png)"
   ]
  },
  {
   "cell_type": "markdown",
   "id": "95e3f575-3124-4e56-b31f-0f6114c34d76",
   "metadata": {
    "tags": []
   },
   "source": [
    "## Q5. What function is used in Flask for URL Building? Write a Python code to demonstrate the working of the url_for() function.\n",
    "\n",
    "<P>from flask import Flask\n",
    "from flask import request\n",
    "\n",
    "app = Flask(__name__)\n",
    "@app.route('/input_url')\n",
    "def request_input():\n",
    "    data = request.args.get('x')\n",
    "    return \"this is my input from url {}\".format(data)\n",
    "    \n",
    "if __name__==\"__main__\":\n",
    "    app.run(host=\"0.0.0.0\")<P>"
   ]
  },
  {
   "cell_type": "code",
   "execution_count": null,
   "id": "e8febed0-025b-4ad8-83c5-c092be2e9863",
   "metadata": {},
   "outputs": [],
   "source": []
  }
 ],
 "metadata": {
  "kernelspec": {
   "display_name": "Python 3 (ipykernel)",
   "language": "python",
   "name": "python3"
  },
  "language_info": {
   "codemirror_mode": {
    "name": "ipython",
    "version": 3
   },
   "file_extension": ".py",
   "mimetype": "text/x-python",
   "name": "python",
   "nbconvert_exporter": "python",
   "pygments_lexer": "ipython3",
   "version": "3.10.8"
  }
 },
 "nbformat": 4,
 "nbformat_minor": 5
}
